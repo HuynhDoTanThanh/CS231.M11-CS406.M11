{
 "cells": [
  {
   "cell_type": "markdown",
   "id": "c96e8d37",
   "metadata": {
    "papermill": {
     "duration": 0.018668,
     "end_time": "2021-11-29T03:21:53.653587",
     "exception": false,
     "start_time": "2021-11-29T03:21:53.634919",
     "status": "completed"
    },
    "tags": []
   },
   "source": [
    "## Import thư viện"
   ]
  },
  {
   "cell_type": "code",
   "execution_count": 1,
   "id": "0c2e3063",
   "metadata": {
    "execution": {
     "iopub.execute_input": "2021-11-29T03:21:53.698326Z",
     "iopub.status.busy": "2021-11-29T03:21:53.697746Z",
     "iopub.status.idle": "2021-11-29T03:21:54.691617Z",
     "shell.execute_reply": "2021-11-29T03:21:54.690920Z",
     "shell.execute_reply.started": "2021-11-29T03:20:17.466761Z"
    },
    "papermill": {
     "duration": 1.020125,
     "end_time": "2021-11-29T03:21:54.691791",
     "exception": false,
     "start_time": "2021-11-29T03:21:53.671666",
     "status": "completed"
    },
    "tags": []
   },
   "outputs": [],
   "source": [
    "import os\n",
    "import pandas as pd\n",
    "import numpy as np\n",
    "from sklearn.model_selection import train_test_split"
   ]
  },
  {
   "cell_type": "code",
   "execution_count": 2,
   "id": "106185d8",
   "metadata": {
    "execution": {
     "iopub.execute_input": "2021-11-29T03:21:54.731203Z",
     "iopub.status.busy": "2021-11-29T03:21:54.730252Z",
     "iopub.status.idle": "2021-11-29T03:21:59.694789Z",
     "shell.execute_reply": "2021-11-29T03:21:59.693756Z",
     "shell.execute_reply.started": "2021-11-29T03:20:18.354379Z"
    },
    "papermill": {
     "duration": 4.985334,
     "end_time": "2021-11-29T03:21:59.694938",
     "exception": false,
     "start_time": "2021-11-29T03:21:54.709604",
     "status": "completed"
    },
    "tags": []
   },
   "outputs": [
    {
     "name": "stderr",
     "output_type": "stream",
     "text": [
      "2021-11-29 03:21:55.331341: W tensorflow/stream_executor/platform/default/dso_loader.cc:60] Could not load dynamic library 'libcudart.so.11.0'; dlerror: libcudart.so.11.0: cannot open shared object file: No such file or directory; LD_LIBRARY_PATH: /opt/conda/lib\n",
      "2021-11-29 03:21:55.331454: I tensorflow/stream_executor/cuda/cudart_stub.cc:29] Ignore above cudart dlerror if you do not have a GPU set up on your machine.\n"
     ]
    }
   ],
   "source": [
    "from tensorflow.keras.models import *\n",
    "from tensorflow.keras.layers import *\n",
    "from tensorflow.keras.optimizers import *\n",
    "from tensorflow.keras.utils import *\n",
    "from tensorflow.keras.callbacks import *\n",
    "from tensorflow.keras.initializers import *\n",
    "import tensorflow as tf\n",
    "from tensorflow.keras.applications import VGG19\n",
    "from tensorflow.keras.preprocessing import image\n",
    "from tensorflow.keras.applications.vgg19 import preprocess_input\n",
    "from tensorflow.keras.models import Model\n",
    "from sklearn.preprocessing import MultiLabelBinarizer\n",
    "import tensorflow_addons as tfa\n",
    "from kaggle_datasets import KaggleDatasets"
   ]
  },
  {
   "cell_type": "markdown",
   "id": "ca2f6fb1",
   "metadata": {
    "papermill": {
     "duration": 0.01858,
     "end_time": "2021-11-29T03:21:59.732767",
     "exception": false,
     "start_time": "2021-11-29T03:21:59.714187",
     "status": "completed"
    },
    "tags": []
   },
   "source": [
    "# Load Data"
   ]
  },
  {
   "cell_type": "code",
   "execution_count": 3,
   "id": "fcbb3798",
   "metadata": {
    "execution": {
     "iopub.execute_input": "2021-11-29T03:21:59.772856Z",
     "iopub.status.busy": "2021-11-29T03:21:59.772206Z",
     "iopub.status.idle": "2021-11-29T03:22:05.101250Z",
     "shell.execute_reply": "2021-11-29T03:22:05.101746Z",
     "shell.execute_reply.started": "2021-11-29T03:20:23.573996Z"
    },
    "papermill": {
     "duration": 5.350661,
     "end_time": "2021-11-29T03:22:05.101920",
     "exception": false,
     "start_time": "2021-11-29T03:21:59.751259",
     "status": "completed"
    },
    "tags": []
   },
   "outputs": [
    {
     "name": "stdout",
     "output_type": "stream",
     "text": [
      "Running on TPU  grpc://10.0.0.2:8470\n"
     ]
    },
    {
     "name": "stderr",
     "output_type": "stream",
     "text": [
      "2021-11-29 03:21:59.779730: I tensorflow/compiler/jit/xla_cpu_device.cc:41] Not creating XLA devices, tf_xla_enable_xla_devices not set\n",
      "2021-11-29 03:21:59.782167: W tensorflow/stream_executor/platform/default/dso_loader.cc:60] Could not load dynamic library 'libcuda.so.1'; dlerror: libcuda.so.1: cannot open shared object file: No such file or directory; LD_LIBRARY_PATH: /opt/conda/lib\n",
      "2021-11-29 03:21:59.782195: W tensorflow/stream_executor/cuda/cuda_driver.cc:326] failed call to cuInit: UNKNOWN ERROR (303)\n",
      "2021-11-29 03:21:59.782221: I tensorflow/stream_executor/cuda/cuda_diagnostics.cc:156] kernel driver does not appear to be running on this host (0467d8f39983): /proc/driver/nvidia/version does not exist\n",
      "2021-11-29 03:21:59.785774: I tensorflow/core/platform/cpu_feature_guard.cc:142] This TensorFlow binary is optimized with oneAPI Deep Neural Network Library (oneDNN) to use the following CPU instructions in performance-critical operations:  AVX2 FMA\n",
      "To enable them in other operations, rebuild TensorFlow with the appropriate compiler flags.\n",
      "2021-11-29 03:21:59.787165: I tensorflow/compiler/jit/xla_gpu_device.cc:99] Not creating XLA devices, tf_xla_enable_xla_devices not set\n",
      "2021-11-29 03:21:59.791668: I tensorflow/compiler/jit/xla_gpu_device.cc:99] Not creating XLA devices, tf_xla_enable_xla_devices not set\n",
      "2021-11-29 03:21:59.813162: I tensorflow/core/distributed_runtime/rpc/grpc_channel.cc:301] Initialize GrpcChannelCache for job worker -> {0 -> 10.0.0.2:8470}\n",
      "2021-11-29 03:21:59.813213: I tensorflow/core/distributed_runtime/rpc/grpc_channel.cc:301] Initialize GrpcChannelCache for job localhost -> {0 -> localhost:30019}\n",
      "2021-11-29 03:21:59.835755: I tensorflow/core/distributed_runtime/rpc/grpc_channel.cc:301] Initialize GrpcChannelCache for job worker -> {0 -> 10.0.0.2:8470}\n",
      "2021-11-29 03:21:59.835812: I tensorflow/core/distributed_runtime/rpc/grpc_channel.cc:301] Initialize GrpcChannelCache for job localhost -> {0 -> localhost:30019}\n",
      "2021-11-29 03:21:59.836978: I tensorflow/core/distributed_runtime/rpc/grpc_server_lib.cc:411] Started server with target: grpc://localhost:30019\n"
     ]
    },
    {
     "name": "stdout",
     "output_type": "stream",
     "text": [
      "REPLICAS:  8\n"
     ]
    }
   ],
   "source": [
    "AUTO = tf.data.experimental.AUTOTUNE\n",
    "# Detect hardware, return appropriate distribution strategy\n",
    "try:\n",
    "    tpu = tf.distribute.cluster_resolver.TPUClusterResolver()  # TPU detection. No parameters necessary if TPU_NAME environment variable is set. On Kaggle this is always the case.\n",
    "    print('Running on TPU ', tpu.master())\n",
    "except ValueError:\n",
    "    tpu = None\n",
    "\n",
    "if tpu:\n",
    "    tf.config.experimental_connect_to_cluster(tpu)\n",
    "    tf.tpu.experimental.initialize_tpu_system(tpu)\n",
    "    strategy = tf.distribute.experimental.TPUStrategy(tpu)\n",
    "else:\n",
    "    strategy = tf.distribute.get_strategy() # default distribution strategy in Tensorflow. Works on CPU and single GPU.\n",
    "\n",
    "print(\"REPLICAS: \", strategy.num_replicas_in_sync)"
   ]
  },
  {
   "cell_type": "code",
   "execution_count": 4,
   "id": "93300ebb",
   "metadata": {
    "execution": {
     "iopub.execute_input": "2021-11-29T03:22:05.146213Z",
     "iopub.status.busy": "2021-11-29T03:22:05.145219Z",
     "iopub.status.idle": "2021-11-29T03:22:05.147471Z",
     "shell.execute_reply": "2021-11-29T03:22:05.148058Z",
     "shell.execute_reply.started": "2021-11-29T03:20:29.187651Z"
    },
    "papermill": {
     "duration": 0.026967,
     "end_time": "2021-11-29T03:22:05.148218",
     "exception": false,
     "start_time": "2021-11-29T03:22:05.121251",
     "status": "completed"
    },
    "tags": []
   },
   "outputs": [],
   "source": [
    "EPOCHS = 10\n",
    "BATCH_SIZE = 16 * strategy.num_replicas_in_sync\n",
    "WIDTH = 480\n",
    "HEIGHT = 480\n",
    "CHANNELS = 3\n",
    "LEARNING_RATE = 0.001\n",
    "CLASSES = 6\n",
    "SEED = 32\n",
    "top_dropout_rate = 0.2"
   ]
  },
  {
   "cell_type": "code",
   "execution_count": 5,
   "id": "179d2550",
   "metadata": {
    "execution": {
     "iopub.execute_input": "2021-11-29T03:22:05.189833Z",
     "iopub.status.busy": "2021-11-29T03:22:05.188898Z",
     "iopub.status.idle": "2021-11-29T03:22:05.623904Z",
     "shell.execute_reply": "2021-11-29T03:22:05.623059Z",
     "shell.execute_reply.started": "2021-11-29T03:20:29.193715Z"
    },
    "papermill": {
     "duration": 0.456886,
     "end_time": "2021-11-29T03:22:05.624082",
     "exception": false,
     "start_time": "2021-11-29T03:22:05.167196",
     "status": "completed"
    },
    "tags": []
   },
   "outputs": [
    {
     "name": "stdout",
     "output_type": "stream",
     "text": [
      "gs://kds-2bef73751704c13199297869fb5ffba210239a19cc19f538e88a583f\n"
     ]
    }
   ],
   "source": [
    "GCS_DS_PATH = KaggleDatasets().get_gcs_path('fgvc8aug')\n",
    "TRAIN_PATH = GCS_DS_PATH + \"/data_full_augmentation_images/data_full_augmentation/images/\"\n",
    "print(GCS_DS_PATH)"
   ]
  },
  {
   "cell_type": "code",
   "execution_count": 6,
   "id": "8ae1093e",
   "metadata": {
    "execution": {
     "iopub.execute_input": "2021-11-29T03:22:05.669741Z",
     "iopub.status.busy": "2021-11-29T03:22:05.669091Z",
     "iopub.status.idle": "2021-11-29T03:22:05.744399Z",
     "shell.execute_reply": "2021-11-29T03:22:05.745334Z",
     "shell.execute_reply.started": "2021-11-29T03:20:29.616716Z"
    },
    "papermill": {
     "duration": 0.100419,
     "end_time": "2021-11-29T03:22:05.745641",
     "exception": false,
     "start_time": "2021-11-29T03:22:05.645222",
     "status": "completed"
    },
    "tags": []
   },
   "outputs": [],
   "source": [
    "final_model = 'FGVC8-VGG19t.h5'\n",
    "hist_path = 'FGVC8-VGG19.log'\n",
    "train_image = '../input/fgvc8aug/data_full_augmentation_images/data_full_augmentation/images'\n",
    "train_df = pd.read_csv('../input/fgvc8aug/data.csv', )"
   ]
  },
  {
   "cell_type": "code",
   "execution_count": 7,
   "id": "753b4ff0",
   "metadata": {
    "execution": {
     "iopub.execute_input": "2021-11-29T03:22:05.789198Z",
     "iopub.status.busy": "2021-11-29T03:22:05.788165Z",
     "iopub.status.idle": "2021-11-29T03:22:06.082239Z",
     "shell.execute_reply": "2021-11-29T03:22:06.082751Z",
     "shell.execute_reply.started": "2021-11-29T03:20:29.693325Z"
    },
    "papermill": {
     "duration": 0.317362,
     "end_time": "2021-11-29T03:22:06.082919",
     "exception": false,
     "start_time": "2021-11-29T03:22:05.765557",
     "status": "completed"
    },
    "tags": []
   },
   "outputs": [
    {
     "data": {
      "text/html": [
       "<div>\n",
       "<style scoped>\n",
       "    .dataframe tbody tr th:only-of-type {\n",
       "        vertical-align: middle;\n",
       "    }\n",
       "\n",
       "    .dataframe tbody tr th {\n",
       "        vertical-align: top;\n",
       "    }\n",
       "\n",
       "    .dataframe thead th {\n",
       "        text-align: right;\n",
       "    }\n",
       "</style>\n",
       "<table border=\"1\" class=\"dataframe\">\n",
       "  <thead>\n",
       "    <tr style=\"text-align: right;\">\n",
       "      <th></th>\n",
       "      <th>image</th>\n",
       "      <th>complex</th>\n",
       "      <th>frog_eye_leaf_spot</th>\n",
       "      <th>healthy</th>\n",
       "      <th>powdery_mildew</th>\n",
       "      <th>rust</th>\n",
       "      <th>scab</th>\n",
       "    </tr>\n",
       "  </thead>\n",
       "  <tbody>\n",
       "    <tr>\n",
       "      <th>0</th>\n",
       "      <td>c0c81ef5083faf1e_aug.jpg</td>\n",
       "      <td>0</td>\n",
       "      <td>1</td>\n",
       "      <td>0</td>\n",
       "      <td>0</td>\n",
       "      <td>0</td>\n",
       "      <td>0</td>\n",
       "    </tr>\n",
       "    <tr>\n",
       "      <th>1</th>\n",
       "      <td>c0c8c7270f638f9e_aug.jpg</td>\n",
       "      <td>0</td>\n",
       "      <td>0</td>\n",
       "      <td>1</td>\n",
       "      <td>0</td>\n",
       "      <td>0</td>\n",
       "      <td>0</td>\n",
       "    </tr>\n",
       "    <tr>\n",
       "      <th>2</th>\n",
       "      <td>c0c8cbbd163772d4_aug.jpg</td>\n",
       "      <td>0</td>\n",
       "      <td>1</td>\n",
       "      <td>0</td>\n",
       "      <td>0</td>\n",
       "      <td>0</td>\n",
       "      <td>0</td>\n",
       "    </tr>\n",
       "    <tr>\n",
       "      <th>3</th>\n",
       "      <td>c0c8679f29e519bc_aug.jpg</td>\n",
       "      <td>0</td>\n",
       "      <td>0</td>\n",
       "      <td>0</td>\n",
       "      <td>0</td>\n",
       "      <td>1</td>\n",
       "      <td>0</td>\n",
       "    </tr>\n",
       "    <tr>\n",
       "      <th>4</th>\n",
       "      <td>c0cac1de1be46f64_aug.jpg</td>\n",
       "      <td>1</td>\n",
       "      <td>0</td>\n",
       "      <td>0</td>\n",
       "      <td>0</td>\n",
       "      <td>0</td>\n",
       "      <td>0</td>\n",
       "    </tr>\n",
       "  </tbody>\n",
       "</table>\n",
       "</div>"
      ],
      "text/plain": [
       "                      image  complex  frog_eye_leaf_spot  healthy  \\\n",
       "0  c0c81ef5083faf1e_aug.jpg        0                   1        0   \n",
       "1  c0c8c7270f638f9e_aug.jpg        0                   0        1   \n",
       "2  c0c8cbbd163772d4_aug.jpg        0                   1        0   \n",
       "3  c0c8679f29e519bc_aug.jpg        0                   0        0   \n",
       "4  c0cac1de1be46f64_aug.jpg        1                   0        0   \n",
       "\n",
       "   powdery_mildew  rust  scab  \n",
       "0               0     0     0  \n",
       "1               0     0     0  \n",
       "2               0     0     0  \n",
       "3               0     1     0  \n",
       "4               0     0     0  "
      ]
     },
     "execution_count": 7,
     "metadata": {},
     "output_type": "execute_result"
    }
   ],
   "source": [
    "train_df = train_df[[\"image\", \"labels\"]]\n",
    "mlb = MultiLabelBinarizer().fit(train_df.labels.apply(lambda x : x.split()))\n",
    "labels = pd.DataFrame(mlb.transform(train_df.labels.apply(lambda x : x.split())), columns = mlb.classes_)\n",
    "\n",
    "labels = pd.concat([train_df['image'], labels], axis=1)\n",
    "labels.head()"
   ]
  },
  {
   "cell_type": "code",
   "execution_count": 8,
   "id": "f7b477e9",
   "metadata": {
    "execution": {
     "iopub.execute_input": "2021-11-29T03:22:06.150811Z",
     "iopub.status.busy": "2021-11-29T03:22:06.150001Z",
     "iopub.status.idle": "2021-11-29T03:22:06.160028Z",
     "shell.execute_reply": "2021-11-29T03:22:06.159525Z",
     "shell.execute_reply.started": "2021-11-29T03:20:29.985307Z"
    },
    "papermill": {
     "duration": 0.057461,
     "end_time": "2021-11-29T03:22:06.160170",
     "exception": false,
     "start_time": "2021-11-29T03:22:06.102709",
     "status": "completed"
    },
    "tags": []
   },
   "outputs": [],
   "source": [
    "def format_path(st):\n",
    "    return TRAIN_PATH + st\n",
    "\n",
    "train_paths = labels.image.apply(format_path).values\n",
    "\n",
    "train_labels = np.float32(labels.loc[:, 'complex':'scab'].values)\n",
    "train_paths, valid_paths, train_labels, valid_labels =\\\n",
    "train_test_split(train_paths, train_labels, test_size=0.15, random_state=2020)"
   ]
  },
  {
   "cell_type": "code",
   "execution_count": 9,
   "id": "b9886a89",
   "metadata": {
    "execution": {
     "iopub.execute_input": "2021-11-29T03:22:06.206401Z",
     "iopub.status.busy": "2021-11-29T03:22:06.205679Z",
     "iopub.status.idle": "2021-11-29T03:22:06.207162Z",
     "shell.execute_reply": "2021-11-29T03:22:06.207729Z",
     "shell.execute_reply.started": "2021-11-29T03:20:30.023485Z"
    },
    "papermill": {
     "duration": 0.027846,
     "end_time": "2021-11-29T03:22:06.207896",
     "exception": false,
     "start_time": "2021-11-29T03:22:06.180050",
     "status": "completed"
    },
    "tags": []
   },
   "outputs": [],
   "source": [
    "def process_img(filepath,label):\n",
    "    image = tf.io.read_file(filepath)\n",
    "    image = tf.image.decode_jpeg(image, channels=CHANNELS)\n",
    "    image = tf.image.convert_image_dtype(image, tf.float32) \n",
    "    image = tf.image.resize(image, [HEIGHT,WIDTH])\n",
    "    return image,label"
   ]
  },
  {
   "cell_type": "code",
   "execution_count": 10,
   "id": "f8138a18",
   "metadata": {
    "execution": {
     "iopub.execute_input": "2021-11-29T03:22:06.279816Z",
     "iopub.status.busy": "2021-11-29T03:22:06.278762Z",
     "iopub.status.idle": "2021-11-29T03:22:06.388533Z",
     "shell.execute_reply": "2021-11-29T03:22:06.387857Z",
     "shell.execute_reply.started": "2021-11-29T03:20:30.030127Z"
    },
    "papermill": {
     "duration": 0.160129,
     "end_time": "2021-11-29T03:22:06.388677",
     "exception": false,
     "start_time": "2021-11-29T03:22:06.228548",
     "status": "completed"
    },
    "tags": []
   },
   "outputs": [],
   "source": [
    "train_dataset = (\n",
    "    tf.data.Dataset\n",
    "    .from_tensor_slices((train_paths, train_labels))\n",
    "    .map(process_img, num_parallel_calls=AUTO)\n",
    "    .repeat()\n",
    "    .shuffle(512)\n",
    "    .batch(BATCH_SIZE)\n",
    "    .prefetch(AUTO)\n",
    ")\n",
    "\n",
    "valid_dataset = (\n",
    "    tf.data.Dataset\n",
    "    .from_tensor_slices((valid_paths, valid_labels))\n",
    "    .map(process_img, num_parallel_calls=AUTO)\n",
    "    .batch(BATCH_SIZE)\n",
    "    .cache()\n",
    "    .prefetch(AUTO)\n",
    ")"
   ]
  },
  {
   "cell_type": "markdown",
   "id": "9b74831c",
   "metadata": {
    "papermill": {
     "duration": 0.019567,
     "end_time": "2021-11-29T03:22:06.428718",
     "exception": false,
     "start_time": "2021-11-29T03:22:06.409151",
     "status": "completed"
    },
    "tags": []
   },
   "source": [
    "## Get model"
   ]
  },
  {
   "cell_type": "code",
   "execution_count": 11,
   "id": "f50d2d9e",
   "metadata": {
    "execution": {
     "iopub.execute_input": "2021-11-29T03:22:06.474925Z",
     "iopub.status.busy": "2021-11-29T03:22:06.474267Z",
     "iopub.status.idle": "2021-11-29T03:22:06.476266Z",
     "shell.execute_reply": "2021-11-29T03:22:06.476789Z",
     "shell.execute_reply.started": "2021-11-29T03:20:30.177609Z"
    },
    "papermill": {
     "duration": 0.028697,
     "end_time": "2021-11-29T03:22:06.476939",
     "exception": false,
     "start_time": "2021-11-29T03:22:06.448242",
     "status": "completed"
    },
    "tags": []
   },
   "outputs": [],
   "source": [
    "def get_model():\n",
    "    VGG19_MODEL = tf.keras.applications.VGG19(weights='imagenet' ,include_top=False, input_shape=(HEIGHT, WIDTH, 3))\n",
    "    \n",
    "    x=VGG19_MODEL.output\n",
    "    x=GlobalAveragePooling2D()(x)\n",
    "    x=Dense(256,activation='relu')(x)\n",
    "    x=Dropout(0.2)(x)\n",
    "    x=Dense(128,activation='relu')(x)\n",
    "    prediction=Dense(6,activation='sigmoid')(x)\n",
    "\n",
    "    model=Model(inputs=VGG19_MODEL.input, outputs=prediction)\n",
    "    \n",
    "    return model"
   ]
  },
  {
   "cell_type": "code",
   "execution_count": 12,
   "id": "2e4cb393",
   "metadata": {
    "execution": {
     "iopub.execute_input": "2021-11-29T03:22:06.520247Z",
     "iopub.status.busy": "2021-11-29T03:22:06.519663Z",
     "iopub.status.idle": "2021-11-29T03:22:09.745322Z",
     "shell.execute_reply": "2021-11-29T03:22:09.745831Z",
     "shell.execute_reply.started": "2021-11-29T03:20:30.186133Z"
    },
    "papermill": {
     "duration": 3.249678,
     "end_time": "2021-11-29T03:22:09.746017",
     "exception": false,
     "start_time": "2021-11-29T03:22:06.496339",
     "status": "completed"
    },
    "tags": []
   },
   "outputs": [
    {
     "name": "stdout",
     "output_type": "stream",
     "text": [
      "Downloading data from https://storage.googleapis.com/tensorflow/keras-applications/vgg19/vgg19_weights_tf_dim_ordering_tf_kernels_notop.h5\n",
      "80142336/80134624 [==============================] - 1s 0us/step\n"
     ]
    }
   ],
   "source": [
    "with strategy.scope():\n",
    "    model = get_model()\n",
    "\n",
    "    f1_score = tfa.metrics.F1Score(num_classes=6, threshold=0.4, average='micro')\n",
    "    model.compile(tf.keras.optimizers.Adam(learning_rate=0.0005) , loss='binary_crossentropy', metrics=[f1_score, 'accuracy'])"
   ]
  },
  {
   "cell_type": "code",
   "execution_count": 13,
   "id": "f01fa79a",
   "metadata": {
    "execution": {
     "iopub.execute_input": "2021-11-29T03:22:09.797927Z",
     "iopub.status.busy": "2021-11-29T03:22:09.797226Z",
     "iopub.status.idle": "2021-11-29T03:22:09.816309Z",
     "shell.execute_reply": "2021-11-29T03:22:09.815615Z",
     "shell.execute_reply.started": "2021-11-29T03:20:33.392478Z"
    },
    "papermill": {
     "duration": 0.046981,
     "end_time": "2021-11-29T03:22:09.816532",
     "exception": false,
     "start_time": "2021-11-29T03:22:09.769551",
     "status": "completed"
    },
    "tags": []
   },
   "outputs": [
    {
     "name": "stdout",
     "output_type": "stream",
     "text": [
      "Model: \"model\"\n",
      "_________________________________________________________________\n",
      "Layer (type)                 Output Shape              Param #   \n",
      "=================================================================\n",
      "input_1 (InputLayer)         [(None, 480, 480, 3)]     0         \n",
      "_________________________________________________________________\n",
      "block1_conv1 (Conv2D)        (None, 480, 480, 64)      1792      \n",
      "_________________________________________________________________\n",
      "block1_conv2 (Conv2D)        (None, 480, 480, 64)      36928     \n",
      "_________________________________________________________________\n",
      "block1_pool (MaxPooling2D)   (None, 240, 240, 64)      0         \n",
      "_________________________________________________________________\n",
      "block2_conv1 (Conv2D)        (None, 240, 240, 128)     73856     \n",
      "_________________________________________________________________\n",
      "block2_conv2 (Conv2D)        (None, 240, 240, 128)     147584    \n",
      "_________________________________________________________________\n",
      "block2_pool (MaxPooling2D)   (None, 120, 120, 128)     0         \n",
      "_________________________________________________________________\n",
      "block3_conv1 (Conv2D)        (None, 120, 120, 256)     295168    \n",
      "_________________________________________________________________\n",
      "block3_conv2 (Conv2D)        (None, 120, 120, 256)     590080    \n",
      "_________________________________________________________________\n",
      "block3_conv3 (Conv2D)        (None, 120, 120, 256)     590080    \n",
      "_________________________________________________________________\n",
      "block3_conv4 (Conv2D)        (None, 120, 120, 256)     590080    \n",
      "_________________________________________________________________\n",
      "block3_pool (MaxPooling2D)   (None, 60, 60, 256)       0         \n",
      "_________________________________________________________________\n",
      "block4_conv1 (Conv2D)        (None, 60, 60, 512)       1180160   \n",
      "_________________________________________________________________\n",
      "block4_conv2 (Conv2D)        (None, 60, 60, 512)       2359808   \n",
      "_________________________________________________________________\n",
      "block4_conv3 (Conv2D)        (None, 60, 60, 512)       2359808   \n",
      "_________________________________________________________________\n",
      "block4_conv4 (Conv2D)        (None, 60, 60, 512)       2359808   \n",
      "_________________________________________________________________\n",
      "block4_pool (MaxPooling2D)   (None, 30, 30, 512)       0         \n",
      "_________________________________________________________________\n",
      "block5_conv1 (Conv2D)        (None, 30, 30, 512)       2359808   \n",
      "_________________________________________________________________\n",
      "block5_conv2 (Conv2D)        (None, 30, 30, 512)       2359808   \n",
      "_________________________________________________________________\n",
      "block5_conv3 (Conv2D)        (None, 30, 30, 512)       2359808   \n",
      "_________________________________________________________________\n",
      "block5_conv4 (Conv2D)        (None, 30, 30, 512)       2359808   \n",
      "_________________________________________________________________\n",
      "block5_pool (MaxPooling2D)   (None, 15, 15, 512)       0         \n",
      "_________________________________________________________________\n",
      "global_average_pooling2d (Gl (None, 512)               0         \n",
      "_________________________________________________________________\n",
      "dense (Dense)                (None, 256)               131328    \n",
      "_________________________________________________________________\n",
      "dropout (Dropout)            (None, 256)               0         \n",
      "_________________________________________________________________\n",
      "dense_1 (Dense)              (None, 128)               32896     \n",
      "_________________________________________________________________\n",
      "dense_2 (Dense)              (None, 6)                 774       \n",
      "=================================================================\n",
      "Total params: 20,189,382\n",
      "Trainable params: 20,189,382\n",
      "Non-trainable params: 0\n",
      "_________________________________________________________________\n"
     ]
    }
   ],
   "source": [
    "model.summary()"
   ]
  },
  {
   "cell_type": "code",
   "execution_count": 14,
   "id": "54e6e182",
   "metadata": {
    "execution": {
     "iopub.execute_input": "2021-11-29T03:22:09.870188Z",
     "iopub.status.busy": "2021-11-29T03:22:09.869565Z",
     "iopub.status.idle": "2021-11-29T03:22:10.823596Z",
     "shell.execute_reply": "2021-11-29T03:22:10.824076Z",
     "shell.execute_reply.started": "2021-11-29T03:20:33.409963Z"
    },
    "papermill": {
     "duration": 0.983169,
     "end_time": "2021-11-29T03:22:10.824254",
     "exception": false,
     "start_time": "2021-11-29T03:22:09.841085",
     "status": "completed"
    },
    "tags": []
   },
   "outputs": [
    {
     "data": {
      "image/png": "[encoded data removed]",
      "text/plain": [
       "<IPython.core.display.Image object>"
      ]
     },
     "execution_count": 14,
     "metadata": {},
     "output_type": "execute_result"
    }
   ],
   "source": [
    "tf.keras.utils.plot_model(model, dpi=60)"
   ]
  },
  {
   "cell_type": "markdown",
   "id": "854e8bf9",
   "metadata": {
    "papermill": {
     "duration": 0.025634,
     "end_time": "2021-11-29T03:22:10.875660",
     "exception": false,
     "start_time": "2021-11-29T03:22:10.850026",
     "status": "completed"
    },
    "tags": []
   },
   "source": [
    "## Trainning"
   ]
  },
  {
   "cell_type": "code",
   "execution_count": 15,
   "id": "fe41fd64",
   "metadata": {
    "execution": {
     "iopub.execute_input": "2021-11-29T03:22:10.937514Z",
     "iopub.status.busy": "2021-11-29T03:22:10.936793Z",
     "iopub.status.idle": "2021-11-29T03:22:10.939798Z",
     "shell.execute_reply": "2021-11-29T03:22:10.939189Z",
     "shell.execute_reply.started": "2021-11-29T03:20:34.332917Z"
    },
    "papermill": {
     "duration": 0.038697,
     "end_time": "2021-11-29T03:22:10.939936",
     "exception": false,
     "start_time": "2021-11-29T03:22:10.901239",
     "status": "completed"
    },
    "tags": []
   },
   "outputs": [],
   "source": [
    "checkpoint = ModelCheckpoint(\n",
    "    final_model,\n",
    "    monitor = 'val_accuracy',\n",
    "    mode = 'max',\n",
    "    save_best_only = True,\n",
    "    save_weights_only= False ,\n",
    "    perior = 1,\n",
    "    verbose = 1\n",
    ")\n",
    "\n",
    "early_stopping = EarlyStopping(\n",
    "    monitor = 'val_accuracy',\n",
    "    mode = 'auto',\n",
    "    min_delta = 0.0001,\n",
    "    patience = 3,\n",
    "    baseline = None,\n",
    "    restore_best_weights = True,\n",
    "    verbose = 1\n",
    ")\n",
    "def build_lrfn(lr_start=0.00001, lr_max=0.00005, \n",
    "               lr_min=0.00001, lr_rampup_epochs=5, \n",
    "               lr_sustain_epochs=0, lr_exp_decay=.8):\n",
    "    lr_max = lr_max * strategy.num_replicas_in_sync\n",
    "\n",
    "    def lrfn(epoch):\n",
    "        if epoch < lr_rampup_epochs:\n",
    "            lr = (lr_max - lr_start) / lr_rampup_epochs * epoch + lr_start\n",
    "        elif epoch < lr_rampup_epochs + lr_sustain_epochs:\n",
    "            lr = lr_max\n",
    "        else:\n",
    "            lr = (lr_max - lr_min) *\\\n",
    "                 lr_exp_decay**(epoch - lr_rampup_epochs\\\n",
    "                                - lr_sustain_epochs) + lr_min\n",
    "        return lr\n",
    "    return lrfn"
   ]
  },
  {
   "cell_type": "code",
   "execution_count": 16,
   "id": "95b6e911",
   "metadata": {
    "execution": {
     "iopub.execute_input": "2021-11-29T03:22:10.997205Z",
     "iopub.status.busy": "2021-11-29T03:22:10.996627Z",
     "iopub.status.idle": "2021-11-29T03:22:10.999256Z",
     "shell.execute_reply": "2021-11-29T03:22:10.998755Z",
     "shell.execute_reply.started": "2021-11-29T03:20:34.343936Z"
    },
    "papermill": {
     "duration": 0.03339,
     "end_time": "2021-11-29T03:22:10.999408",
     "exception": false,
     "start_time": "2021-11-29T03:22:10.966018",
     "status": "completed"
    },
    "tags": []
   },
   "outputs": [],
   "source": [
    "lrfn = build_lrfn()\n",
    "STEPS_PER_EPOCH = train_labels.shape[0] // BATCH_SIZE\n",
    "lr_schedule = tf.keras.callbacks.LearningRateScheduler(lrfn, verbose=1)"
   ]
  },
  {
   "cell_type": "code",
   "execution_count": 17,
   "id": "534cfdbd",
   "metadata": {
    "execution": {
     "iopub.execute_input": "2021-11-29T03:22:11.059571Z",
     "iopub.status.busy": "2021-11-29T03:22:11.058398Z",
     "iopub.status.idle": "2021-11-29T05:33:56.694884Z",
     "shell.execute_reply": "2021-11-29T05:33:56.695438Z"
    },
    "papermill": {
     "duration": 7905.670661,
     "end_time": "2021-11-29T05:33:56.695857",
     "exception": false,
     "start_time": "2021-11-29T03:22:11.025196",
     "status": "completed"
    },
    "tags": []
   },
   "outputs": [
    {
     "name": "stdout",
     "output_type": "stream",
     "text": [
      "Epoch 1/10\n",
      "\n",
      "Epoch 00001: LearningRateScheduler reducing learning rate to 1e-05.\n",
      "246/246 [==============================] - 1590s 6s/step - loss: 0.4357 - f1_score: 0.3105 - accuracy: 0.3511 - val_loss: 0.2214 - val_f1_score: 0.7423 - val_accuracy: 0.7480\n",
      "\n",
      "Epoch 00001: val_accuracy improved from -inf to 0.74803, saving model to FGVC8-VGG19t.h5\n",
      "Epoch 2/10\n",
      "\n",
      "Epoch 00002: LearningRateScheduler reducing learning rate to 8.8e-05.\n",
      "246/246 [==============================] - 701s 3s/step - loss: 0.2918 - f1_score: 0.6280 - accuracy: 0.6364 - val_loss: 0.1469 - val_f1_score: 0.8435 - val_accuracy: 0.8566\n",
      "\n",
      "Epoch 00002: val_accuracy improved from 0.74803 to 0.85663, saving model to FGVC8-VGG19t.h5\n",
      "Epoch 3/10\n",
      "\n",
      "Epoch 00003: LearningRateScheduler reducing learning rate to 0.000166.\n",
      "246/246 [==============================] - 722s 3s/step - loss: 0.1601 - f1_score: 0.8260 - accuracy: 0.8272 - val_loss: 0.1305 - val_f1_score: 0.8537 - val_accuracy: 0.8670\n",
      "\n",
      "Epoch 00003: val_accuracy improved from 0.85663 to 0.86703, saving model to FGVC8-VGG19t.h5\n",
      "Epoch 4/10\n",
      "\n",
      "Epoch 00004: LearningRateScheduler reducing learning rate to 0.000244.\n",
      "246/246 [==============================] - 699s 3s/step - loss: 0.1411 - f1_score: 0.8471 - accuracy: 0.8509 - val_loss: 0.1228 - val_f1_score: 0.8678 - val_accuracy: 0.8794\n",
      "\n",
      "Epoch 00004: val_accuracy improved from 0.86703 to 0.87939, saving model to FGVC8-VGG19t.h5\n",
      "Epoch 5/10\n",
      "\n",
      "Epoch 00005: LearningRateScheduler reducing learning rate to 0.000322.\n",
      "246/246 [==============================] - 730s 3s/step - loss: 0.1367 - f1_score: 0.8484 - accuracy: 0.8527 - val_loss: 0.1136 - val_f1_score: 0.8767 - val_accuracy: 0.8796\n",
      "\n",
      "Epoch 00005: val_accuracy improved from 0.87939 to 0.87957, saving model to FGVC8-VGG19t.h5\n",
      "Epoch 6/10\n",
      "\n",
      "Epoch 00006: LearningRateScheduler reducing learning rate to 0.0004.\n",
      "246/246 [==============================] - 664s 3s/step - loss: 0.1174 - f1_score: 0.8696 - accuracy: 0.8733 - val_loss: 0.1218 - val_f1_score: 0.8655 - val_accuracy: 0.8767\n",
      "\n",
      "Epoch 00006: val_accuracy did not improve from 0.87957\n",
      "Epoch 7/10\n",
      "\n",
      "Epoch 00007: LearningRateScheduler reducing learning rate to 0.000322.\n",
      "246/246 [==============================] - 692s 3s/step - loss: 0.1015 - f1_score: 0.8848 - accuracy: 0.8875 - val_loss: 0.0960 - val_f1_score: 0.8888 - val_accuracy: 0.8991\n",
      "\n",
      "Epoch 00007: val_accuracy improved from 0.87957 to 0.89910, saving model to FGVC8-VGG19t.h5\n",
      "Epoch 8/10\n",
      "\n",
      "Epoch 00008: LearningRateScheduler reducing learning rate to 0.0002596000000000001.\n",
      "246/246 [==============================] - 689s 3s/step - loss: 0.0889 - f1_score: 0.8968 - accuracy: 0.9032 - val_loss: 0.0867 - val_f1_score: 0.8996 - val_accuracy: 0.9084\n",
      "\n",
      "Epoch 00008: val_accuracy improved from 0.89910 to 0.90842, saving model to FGVC8-VGG19t.h5\n",
      "Epoch 9/10\n",
      "\n",
      "Epoch 00009: LearningRateScheduler reducing learning rate to 0.00020968000000000004.\n",
      "246/246 [==============================] - 705s 3s/step - loss: 0.0801 - f1_score: 0.9079 - accuracy: 0.9140 - val_loss: 0.0916 - val_f1_score: 0.8927 - val_accuracy: 0.9063\n",
      "\n",
      "Epoch 00009: val_accuracy did not improve from 0.90842\n",
      "Epoch 10/10\n",
      "\n",
      "Epoch 00010: LearningRateScheduler reducing learning rate to 0.00016974400000000002.\n",
      "246/246 [==============================] - 700s 3s/step - loss: 0.0727 - f1_score: 0.9136 - accuracy: 0.9172 - val_loss: 0.0898 - val_f1_score: 0.8998 - val_accuracy: 0.9048\n",
      "\n",
      "Epoch 00010: val_accuracy did not improve from 0.90842\n"
     ]
    }
   ],
   "source": [
    "params = model.fit(\n",
    "    train_dataset, \n",
    "    validation_data = valid_dataset, \n",
    "    epochs = EPOCHS,\n",
    "    steps_per_epoch=STEPS_PER_EPOCH,\n",
    "    callbacks = [lr_schedule, early_stopping, checkpoint, CSVLogger(hist_path)]\n",
    ")"
   ]
  },
  {
   "cell_type": "code",
   "execution_count": null,
   "id": "0e9d0a54",
   "metadata": {
    "papermill": {
     "duration": 0.786732,
     "end_time": "2021-11-29T05:33:58.271746",
     "exception": false,
     "start_time": "2021-11-29T05:33:57.485014",
     "status": "completed"
    },
    "tags": []
   },
   "outputs": [],
   "source": []
  },
  {
   "cell_type": "code",
   "execution_count": null,
   "id": "c3b0def4",
   "metadata": {
    "papermill": {
     "duration": 0.773838,
     "end_time": "2021-11-29T05:33:59.832464",
     "exception": false,
     "start_time": "2021-11-29T05:33:59.058626",
     "status": "completed"
    },
    "tags": []
   },
   "outputs": [],
   "source": []
  }
 ],
 "metadata": {
  "kernelspec": {
   "display_name": "Python 3",
   "language": "python",
   "name": "python3"
  },
  "language_info": {
   "codemirror_mode": {
    "name": "ipython",
    "version": 3
   },
   "file_extension": ".py",
   "mimetype": "text/x-python",
   "name": "python",
   "nbconvert_exporter": "python",
   "pygments_lexer": "ipython3",
   "version": "3.7.10"
  },
  "papermill": {
   "default_parameters": {},
   "duration": 7937.590406,
   "end_time": "2021-11-29T05:34:03.227549",
   "environment_variables": {},
   "exception": null,
   "input_path": "__notebook__.ipynb",
   "output_path": "__notebook__.ipynb",
   "parameters": {},
   "start_time": "2021-11-29T03:21:45.637143",
   "version": "2.3.3"
  }
 },
 "nbformat": 4,
 "nbformat_minor": 5
}
