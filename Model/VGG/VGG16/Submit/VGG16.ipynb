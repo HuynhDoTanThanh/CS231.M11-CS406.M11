{
 "cells": [
  {
   "cell_type": "markdown",
   "id": "00c4b25d",
   "metadata": {
    "papermill": {
     "duration": 0.023477,
     "end_time": "2021-11-29T05:44:52.680071",
     "exception": false,
     "start_time": "2021-11-29T05:44:52.656594",
     "status": "completed"
    },
    "tags": []
   },
   "source": [
    "## Import thư viện"
   ]
  },
  {
   "cell_type": "code",
   "execution_count": 1,
   "id": "fc38bede",
   "metadata": {
    "execution": {
     "iopub.execute_input": "2021-11-29T05:44:52.728606Z",
     "iopub.status.busy": "2021-11-29T05:44:52.727964Z",
     "iopub.status.idle": "2021-11-29T05:44:53.714745Z",
     "shell.execute_reply": "2021-11-29T05:44:53.713910Z",
     "shell.execute_reply.started": "2021-11-29T03:29:29.916037Z"
    },
    "papermill": {
     "duration": 1.015854,
     "end_time": "2021-11-29T05:44:53.714916",
     "exception": false,
     "start_time": "2021-11-29T05:44:52.699062",
     "status": "completed"
    },
    "tags": []
   },
   "outputs": [],
   "source": [
    "import os\n",
    "import pandas as pd\n",
    "import numpy as np\n",
    "from sklearn.model_selection import train_test_split"
   ]
  },
  {
   "cell_type": "code",
   "execution_count": 2,
   "id": "e5ce3614",
   "metadata": {
    "execution": {
     "iopub.execute_input": "2021-11-29T05:44:53.755505Z",
     "iopub.status.busy": "2021-11-29T05:44:53.754840Z",
     "iopub.status.idle": "2021-11-29T05:44:59.155791Z",
     "shell.execute_reply": "2021-11-29T05:44:59.156297Z",
     "shell.execute_reply.started": "2021-11-29T03:29:30.856296Z"
    },
    "papermill": {
     "duration": 5.424972,
     "end_time": "2021-11-29T05:44:59.156491",
     "exception": false,
     "start_time": "2021-11-29T05:44:53.731519",
     "status": "completed"
    },
    "tags": []
   },
   "outputs": [
    {
     "name": "stderr",
     "output_type": "stream",
     "text": [
      "2021-11-29 05:44:54.386852: W tensorflow/stream_executor/platform/default/dso_loader.cc:60] Could not load dynamic library 'libcudart.so.11.0'; dlerror: libcudart.so.11.0: cannot open shared object file: No such file or directory; LD_LIBRARY_PATH: /opt/conda/lib\n",
      "2021-11-29 05:44:54.386975: I tensorflow/stream_executor/cuda/cudart_stub.cc:29] Ignore above cudart dlerror if you do not have a GPU set up on your machine.\n"
     ]
    }
   ],
   "source": [
    "from tensorflow.keras.models import *\n",
    "from tensorflow.keras.layers import *\n",
    "from tensorflow.keras.optimizers import *\n",
    "from tensorflow.keras.utils import *\n",
    "from tensorflow.keras.callbacks import *\n",
    "from tensorflow.keras.initializers import *\n",
    "import tensorflow as tf\n",
    "from tensorflow.keras.applications import VGG16\n",
    "from tensorflow.keras.preprocessing import image\n",
    "from tensorflow.keras.applications.vgg16 import preprocess_input\n",
    "from tensorflow.keras.models import Model\n",
    "from sklearn.preprocessing import MultiLabelBinarizer\n",
    "import tensorflow_addons as tfa\n",
    "from kaggle_datasets import KaggleDatasets"
   ]
  },
  {
   "cell_type": "markdown",
   "id": "48fd0c8a",
   "metadata": {
    "papermill": {
     "duration": 0.016903,
     "end_time": "2021-11-29T05:44:59.191024",
     "exception": false,
     "start_time": "2021-11-29T05:44:59.174121",
     "status": "completed"
    },
    "tags": []
   },
   "source": [
    "# Load Data"
   ]
  },
  {
   "cell_type": "code",
   "execution_count": 3,
   "id": "2683453c",
   "metadata": {
    "execution": {
     "iopub.execute_input": "2021-11-29T05:44:59.241874Z",
     "iopub.status.busy": "2021-11-29T05:44:59.228436Z",
     "iopub.status.idle": "2021-11-29T05:45:05.202915Z",
     "shell.execute_reply": "2021-11-29T05:45:05.203458Z",
     "shell.execute_reply.started": "2021-11-29T03:29:35.977131Z"
    },
    "papermill": {
     "duration": 5.995448,
     "end_time": "2021-11-29T05:45:05.203673",
     "exception": false,
     "start_time": "2021-11-29T05:44:59.208225",
     "status": "completed"
    },
    "tags": []
   },
   "outputs": [
    {
     "name": "stdout",
     "output_type": "stream",
     "text": [
      "Running on TPU  grpc://10.0.0.2:8470\n"
     ]
    },
    {
     "name": "stderr",
     "output_type": "stream",
     "text": [
      "2021-11-29 05:44:59.236864: I tensorflow/compiler/jit/xla_cpu_device.cc:41] Not creating XLA devices, tf_xla_enable_xla_devices not set\n",
      "2021-11-29 05:44:59.239837: W tensorflow/stream_executor/platform/default/dso_loader.cc:60] Could not load dynamic library 'libcuda.so.1'; dlerror: libcuda.so.1: cannot open shared object file: No such file or directory; LD_LIBRARY_PATH: /opt/conda/lib\n",
      "2021-11-29 05:44:59.239876: W tensorflow/stream_executor/cuda/cuda_driver.cc:326] failed call to cuInit: UNKNOWN ERROR (303)\n",
      "2021-11-29 05:44:59.239902: I tensorflow/stream_executor/cuda/cuda_diagnostics.cc:156] kernel driver does not appear to be running on this host (1eb794e5d298): /proc/driver/nvidia/version does not exist\n",
      "2021-11-29 05:44:59.243456: I tensorflow/core/platform/cpu_feature_guard.cc:142] This TensorFlow binary is optimized with oneAPI Deep Neural Network Library (oneDNN) to use the following CPU instructions in performance-critical operations:  AVX2 FMA\n",
      "To enable them in other operations, rebuild TensorFlow with the appropriate compiler flags.\n",
      "2021-11-29 05:44:59.245035: I tensorflow/compiler/jit/xla_gpu_device.cc:99] Not creating XLA devices, tf_xla_enable_xla_devices not set\n",
      "2021-11-29 05:44:59.275724: I tensorflow/core/distributed_runtime/rpc/grpc_channel.cc:301] Initialize GrpcChannelCache for job worker -> {0 -> 10.0.0.2:8470}\n",
      "2021-11-29 05:44:59.275798: I tensorflow/core/distributed_runtime/rpc/grpc_channel.cc:301] Initialize GrpcChannelCache for job localhost -> {0 -> localhost:30019}\n",
      "2021-11-29 05:44:59.299734: I tensorflow/core/distributed_runtime/rpc/grpc_channel.cc:301] Initialize GrpcChannelCache for job worker -> {0 -> 10.0.0.2:8470}\n",
      "2021-11-29 05:44:59.299789: I tensorflow/core/distributed_runtime/rpc/grpc_channel.cc:301] Initialize GrpcChannelCache for job localhost -> {0 -> localhost:30019}\n",
      "2021-11-29 05:44:59.301028: I tensorflow/core/distributed_runtime/rpc/grpc_server_lib.cc:411] Started server with target: grpc://localhost:30019\n"
     ]
    },
    {
     "name": "stdout",
     "output_type": "stream",
     "text": [
      "REPLICAS:  8\n"
     ]
    }
   ],
   "source": [
    "AUTO = tf.data.experimental.AUTOTUNE\n",
    "# Detect hardware, return appropriate distribution strategy\n",
    "try:\n",
    "    tpu = tf.distribute.cluster_resolver.TPUClusterResolver()  # TPU detection. No parameters necessary if TPU_NAME environment variable is set. On Kaggle this is always the case.\n",
    "    print('Running on TPU ', tpu.master())\n",
    "except ValueError:\n",
    "    tpu = None\n",
    "\n",
    "if tpu:\n",
    "    tf.config.experimental_connect_to_cluster(tpu)\n",
    "    tf.tpu.experimental.initialize_tpu_system(tpu)\n",
    "    strategy = tf.distribute.experimental.TPUStrategy(tpu)\n",
    "else:\n",
    "    strategy = tf.distribute.get_strategy() # default distribution strategy in Tensorflow. Works on CPU and single GPU.\n",
    "\n",
    "print(\"REPLICAS: \", strategy.num_replicas_in_sync)"
   ]
  },
  {
   "cell_type": "code",
   "execution_count": 4,
   "id": "ae9a371c",
   "metadata": {
    "execution": {
     "iopub.execute_input": "2021-11-29T05:45:05.243790Z",
     "iopub.status.busy": "2021-11-29T05:45:05.243048Z",
     "iopub.status.idle": "2021-11-29T05:45:05.247366Z",
     "shell.execute_reply": "2021-11-29T05:45:05.247893Z",
     "shell.execute_reply.started": "2021-11-29T03:29:41.582116Z"
    },
    "papermill": {
     "duration": 0.025982,
     "end_time": "2021-11-29T05:45:05.248071",
     "exception": false,
     "start_time": "2021-11-29T05:45:05.222089",
     "status": "completed"
    },
    "tags": []
   },
   "outputs": [],
   "source": [
    "EPOCHS = 10\n",
    "BATCH_SIZE = 16 * strategy.num_replicas_in_sync\n",
    "WIDTH = 480\n",
    "HEIGHT = 480\n",
    "CHANNELS = 3\n",
    "LEARNING_RATE = 0.001\n",
    "CLASSES = 6\n",
    "SEED = 32\n",
    "top_dropout_rate = 0.2"
   ]
  },
  {
   "cell_type": "code",
   "execution_count": 5,
   "id": "d65ba51d",
   "metadata": {
    "execution": {
     "iopub.execute_input": "2021-11-29T05:45:05.287927Z",
     "iopub.status.busy": "2021-11-29T05:45:05.287225Z",
     "iopub.status.idle": "2021-11-29T05:45:05.696738Z",
     "shell.execute_reply": "2021-11-29T05:45:05.697283Z",
     "shell.execute_reply.started": "2021-11-29T03:29:41.588492Z"
    },
    "papermill": {
     "duration": 0.431433,
     "end_time": "2021-11-29T05:45:05.697460",
     "exception": false,
     "start_time": "2021-11-29T05:45:05.266027",
     "status": "completed"
    },
    "tags": []
   },
   "outputs": [
    {
     "name": "stdout",
     "output_type": "stream",
     "text": [
      "gs://kds-2bef73751704c13199297869fb5ffba210239a19cc19f538e88a583f\n"
     ]
    }
   ],
   "source": [
    "GCS_DS_PATH = KaggleDatasets().get_gcs_path('fgvc8aug')\n",
    "TRAIN_PATH = GCS_DS_PATH + \"/data_full_augmentation_images/data_full_augmentation/images/\"\n",
    "print(GCS_DS_PATH)"
   ]
  },
  {
   "cell_type": "code",
   "execution_count": 6,
   "id": "08e894bf",
   "metadata": {
    "execution": {
     "iopub.execute_input": "2021-11-29T05:45:05.738977Z",
     "iopub.status.busy": "2021-11-29T05:45:05.738000Z",
     "iopub.status.idle": "2021-11-29T05:45:05.824493Z",
     "shell.execute_reply": "2021-11-29T05:45:05.825056Z",
     "shell.execute_reply.started": "2021-11-29T03:29:47.390979Z"
    },
    "papermill": {
     "duration": 0.108324,
     "end_time": "2021-11-29T05:45:05.825252",
     "exception": false,
     "start_time": "2021-11-29T05:45:05.716928",
     "status": "completed"
    },
    "tags": []
   },
   "outputs": [],
   "source": [
    "final_model = 'FGVC8-VGG16.h5'\n",
    "hist_path = 'FGVC8-VGG16.log'\n",
    "train_image = '../input/fgvc8aug/data_full_augmentation_images/data_full_augmentation/images'\n",
    "train_df = pd.read_csv('../input/fgvc8aug/data.csv', )"
   ]
  },
  {
   "cell_type": "code",
   "execution_count": 7,
   "id": "3cf4a468",
   "metadata": {
    "execution": {
     "iopub.execute_input": "2021-11-29T05:45:05.866204Z",
     "iopub.status.busy": "2021-11-29T05:45:05.865237Z",
     "iopub.status.idle": "2021-11-29T05:45:06.161716Z",
     "shell.execute_reply": "2021-11-29T05:45:06.162264Z",
     "shell.execute_reply.started": "2021-11-29T03:29:50.19805Z"
    },
    "papermill": {
     "duration": 0.318529,
     "end_time": "2021-11-29T05:45:06.162455",
     "exception": false,
     "start_time": "2021-11-29T05:45:05.843926",
     "status": "completed"
    },
    "tags": []
   },
   "outputs": [
    {
     "data": {
      "text/html": [
       "<div>\n",
       "<style scoped>\n",
       "    .dataframe tbody tr th:only-of-type {\n",
       "        vertical-align: middle;\n",
       "    }\n",
       "\n",
       "    .dataframe tbody tr th {\n",
       "        vertical-align: top;\n",
       "    }\n",
       "\n",
       "    .dataframe thead th {\n",
       "        text-align: right;\n",
       "    }\n",
       "</style>\n",
       "<table border=\"1\" class=\"dataframe\">\n",
       "  <thead>\n",
       "    <tr style=\"text-align: right;\">\n",
       "      <th></th>\n",
       "      <th>image</th>\n",
       "      <th>complex</th>\n",
       "      <th>frog_eye_leaf_spot</th>\n",
       "      <th>healthy</th>\n",
       "      <th>powdery_mildew</th>\n",
       "      <th>rust</th>\n",
       "      <th>scab</th>\n",
       "    </tr>\n",
       "  </thead>\n",
       "  <tbody>\n",
       "    <tr>\n",
       "      <th>0</th>\n",
       "      <td>c0c81ef5083faf1e_aug.jpg</td>\n",
       "      <td>0</td>\n",
       "      <td>1</td>\n",
       "      <td>0</td>\n",
       "      <td>0</td>\n",
       "      <td>0</td>\n",
       "      <td>0</td>\n",
       "    </tr>\n",
       "    <tr>\n",
       "      <th>1</th>\n",
       "      <td>c0c8c7270f638f9e_aug.jpg</td>\n",
       "      <td>0</td>\n",
       "      <td>0</td>\n",
       "      <td>1</td>\n",
       "      <td>0</td>\n",
       "      <td>0</td>\n",
       "      <td>0</td>\n",
       "    </tr>\n",
       "    <tr>\n",
       "      <th>2</th>\n",
       "      <td>c0c8cbbd163772d4_aug.jpg</td>\n",
       "      <td>0</td>\n",
       "      <td>1</td>\n",
       "      <td>0</td>\n",
       "      <td>0</td>\n",
       "      <td>0</td>\n",
       "      <td>0</td>\n",
       "    </tr>\n",
       "    <tr>\n",
       "      <th>3</th>\n",
       "      <td>c0c8679f29e519bc_aug.jpg</td>\n",
       "      <td>0</td>\n",
       "      <td>0</td>\n",
       "      <td>0</td>\n",
       "      <td>0</td>\n",
       "      <td>1</td>\n",
       "      <td>0</td>\n",
       "    </tr>\n",
       "    <tr>\n",
       "      <th>4</th>\n",
       "      <td>c0cac1de1be46f64_aug.jpg</td>\n",
       "      <td>1</td>\n",
       "      <td>0</td>\n",
       "      <td>0</td>\n",
       "      <td>0</td>\n",
       "      <td>0</td>\n",
       "      <td>0</td>\n",
       "    </tr>\n",
       "  </tbody>\n",
       "</table>\n",
       "</div>"
      ],
      "text/plain": [
       "                      image  complex  frog_eye_leaf_spot  healthy  \\\n",
       "0  c0c81ef5083faf1e_aug.jpg        0                   1        0   \n",
       "1  c0c8c7270f638f9e_aug.jpg        0                   0        1   \n",
       "2  c0c8cbbd163772d4_aug.jpg        0                   1        0   \n",
       "3  c0c8679f29e519bc_aug.jpg        0                   0        0   \n",
       "4  c0cac1de1be46f64_aug.jpg        1                   0        0   \n",
       "\n",
       "   powdery_mildew  rust  scab  \n",
       "0               0     0     0  \n",
       "1               0     0     0  \n",
       "2               0     0     0  \n",
       "3               0     1     0  \n",
       "4               0     0     0  "
      ]
     },
     "execution_count": 7,
     "metadata": {},
     "output_type": "execute_result"
    }
   ],
   "source": [
    "train_df = train_df[[\"image\", \"labels\"]]\n",
    "mlb = MultiLabelBinarizer().fit(train_df.labels.apply(lambda x : x.split()))\n",
    "labels = pd.DataFrame(mlb.transform(train_df.labels.apply(lambda x : x.split())), columns = mlb.classes_)\n",
    "\n",
    "labels = pd.concat([train_df['image'], labels], axis=1)\n",
    "labels.head()"
   ]
  },
  {
   "cell_type": "code",
   "execution_count": 8,
   "id": "ce30a3ac",
   "metadata": {
    "execution": {
     "iopub.execute_input": "2021-11-29T05:45:06.212078Z",
     "iopub.status.busy": "2021-11-29T05:45:06.211397Z",
     "iopub.status.idle": "2021-11-29T05:45:06.245426Z",
     "shell.execute_reply": "2021-11-29T05:45:06.245950Z",
     "shell.execute_reply.started": "2021-11-29T03:29:51.308153Z"
    },
    "papermill": {
     "duration": 0.060396,
     "end_time": "2021-11-29T05:45:06.246143",
     "exception": false,
     "start_time": "2021-11-29T05:45:06.185747",
     "status": "completed"
    },
    "tags": []
   },
   "outputs": [],
   "source": [
    "def format_path(st):\n",
    "    return TRAIN_PATH + st\n",
    "\n",
    "train_paths = labels.image.apply(format_path).values\n",
    "\n",
    "train_labels = np.float32(labels.loc[:, 'complex':'scab'].values)\n",
    "train_paths, valid_paths, train_labels, valid_labels =\\\n",
    "train_test_split(train_paths, train_labels, test_size=0.15, random_state=2020)"
   ]
  },
  {
   "cell_type": "code",
   "execution_count": 9,
   "id": "beb407c2",
   "metadata": {
    "execution": {
     "iopub.execute_input": "2021-11-29T05:45:06.287509Z",
     "iopub.status.busy": "2021-11-29T05:45:06.286875Z",
     "iopub.status.idle": "2021-11-29T05:45:06.292008Z",
     "shell.execute_reply": "2021-11-29T05:45:06.292737Z",
     "shell.execute_reply.started": "2021-11-29T03:29:51.983485Z"
    },
    "papermill": {
     "duration": 0.027731,
     "end_time": "2021-11-29T05:45:06.292919",
     "exception": false,
     "start_time": "2021-11-29T05:45:06.265188",
     "status": "completed"
    },
    "tags": []
   },
   "outputs": [],
   "source": [
    "def process_img(filepath,label):\n",
    "    image = tf.io.read_file(filepath)\n",
    "    image = tf.image.decode_jpeg(image, channels=CHANNELS)\n",
    "    image = tf.image.convert_image_dtype(image, tf.float32) \n",
    "    image = tf.image.resize(image, [HEIGHT,WIDTH])\n",
    "    return image,label"
   ]
  },
  {
   "cell_type": "code",
   "execution_count": 10,
   "id": "c5b1c1e6",
   "metadata": {
    "execution": {
     "iopub.execute_input": "2021-11-29T05:45:06.361008Z",
     "iopub.status.busy": "2021-11-29T05:45:06.333150Z",
     "iopub.status.idle": "2021-11-29T05:45:06.477740Z",
     "shell.execute_reply": "2021-11-29T05:45:06.478292Z",
     "shell.execute_reply.started": "2021-11-29T03:29:57.057273Z"
    },
    "papermill": {
     "duration": 0.166554,
     "end_time": "2021-11-29T05:45:06.478470",
     "exception": false,
     "start_time": "2021-11-29T05:45:06.311916",
     "status": "completed"
    },
    "tags": []
   },
   "outputs": [],
   "source": [
    "train_dataset = (\n",
    "    tf.data.Dataset\n",
    "    .from_tensor_slices((train_paths, train_labels))\n",
    "    .map(process_img, num_parallel_calls=AUTO)\n",
    "    .repeat()\n",
    "    .shuffle(512)\n",
    "    .batch(BATCH_SIZE)\n",
    "    .prefetch(AUTO)\n",
    ")\n",
    "\n",
    "valid_dataset = (\n",
    "    tf.data.Dataset\n",
    "    .from_tensor_slices((valid_paths, valid_labels))\n",
    "    .map(process_img, num_parallel_calls=AUTO)\n",
    "    .batch(BATCH_SIZE)\n",
    "    .cache()\n",
    "    .prefetch(AUTO)\n",
    ")"
   ]
  },
  {
   "cell_type": "markdown",
   "id": "3abfb9eb",
   "metadata": {
    "papermill": {
     "duration": 0.018542,
     "end_time": "2021-11-29T05:45:06.516266",
     "exception": false,
     "start_time": "2021-11-29T05:45:06.497724",
     "status": "completed"
    },
    "tags": []
   },
   "source": [
    "## Get model"
   ]
  },
  {
   "cell_type": "code",
   "execution_count": 11,
   "id": "ee80d5c0",
   "metadata": {
    "execution": {
     "iopub.execute_input": "2021-11-29T05:45:06.558280Z",
     "iopub.status.busy": "2021-11-29T05:45:06.557281Z",
     "iopub.status.idle": "2021-11-29T05:45:06.563901Z",
     "shell.execute_reply": "2021-11-29T05:45:06.564439Z",
     "shell.execute_reply.started": "2021-11-29T03:30:11.507916Z"
    },
    "papermill": {
     "duration": 0.029188,
     "end_time": "2021-11-29T05:45:06.564627",
     "exception": false,
     "start_time": "2021-11-29T05:45:06.535439",
     "status": "completed"
    },
    "tags": []
   },
   "outputs": [],
   "source": [
    "def get_model():\n",
    "    VGG16_MODEL = tf.keras.applications.VGG16(weights='imagenet' ,include_top=False, input_shape=(HEIGHT, WIDTH, 3))\n",
    "    \n",
    "    x=VGG16_MODEL.output\n",
    "    x=GlobalAveragePooling2D()(x)\n",
    "    x=Dense(256,activation='relu')(x)\n",
    "    x=Dropout(0.2)(x)\n",
    "    x=Dense(128,activation='relu')(x)\n",
    "    prediction=Dense(6,activation='sigmoid')(x)\n",
    "\n",
    "    model=Model(inputs=VGG16_MODEL.input, outputs=prediction)\n",
    "    \n",
    "    return model"
   ]
  },
  {
   "cell_type": "code",
   "execution_count": 12,
   "id": "6ac35e9b",
   "metadata": {
    "execution": {
     "iopub.execute_input": "2021-11-29T05:45:06.606092Z",
     "iopub.status.busy": "2021-11-29T05:45:06.605104Z",
     "iopub.status.idle": "2021-11-29T05:45:09.255369Z",
     "shell.execute_reply": "2021-11-29T05:45:09.254805Z",
     "shell.execute_reply.started": "2021-11-29T03:30:13.323922Z"
    },
    "papermill": {
     "duration": 2.672025,
     "end_time": "2021-11-29T05:45:09.255528",
     "exception": false,
     "start_time": "2021-11-29T05:45:06.583503",
     "status": "completed"
    },
    "tags": []
   },
   "outputs": [
    {
     "name": "stdout",
     "output_type": "stream",
     "text": [
      "Downloading data from https://storage.googleapis.com/tensorflow/keras-applications/vgg16/vgg16_weights_tf_dim_ordering_tf_kernels_notop.h5\n",
      "58892288/58889256 [==============================] - 0s 0us/step\n"
     ]
    }
   ],
   "source": [
    "with strategy.scope():\n",
    "    model = get_model()\n",
    "\n",
    "    f1_score = tfa.metrics.F1Score(num_classes=6, threshold=0.4, average='micro')\n",
    "    model.compile(tf.keras.optimizers.Adam(learning_rate=0.0005) , loss='binary_crossentropy', metrics=[f1_score, 'accuracy'])"
   ]
  },
  {
   "cell_type": "code",
   "execution_count": 13,
   "id": "d3a0ae22",
   "metadata": {
    "execution": {
     "iopub.execute_input": "2021-11-29T05:45:09.306224Z",
     "iopub.status.busy": "2021-11-29T05:45:09.305502Z",
     "iopub.status.idle": "2021-11-29T05:45:09.320671Z",
     "shell.execute_reply": "2021-11-29T05:45:09.320076Z",
     "shell.execute_reply.started": "2021-11-29T03:30:18.660042Z"
    },
    "papermill": {
     "duration": 0.043411,
     "end_time": "2021-11-29T05:45:09.320831",
     "exception": false,
     "start_time": "2021-11-29T05:45:09.277420",
     "status": "completed"
    },
    "tags": []
   },
   "outputs": [
    {
     "name": "stdout",
     "output_type": "stream",
     "text": [
      "Model: \"model\"\n",
      "_________________________________________________________________\n",
      "Layer (type)                 Output Shape              Param #   \n",
      "=================================================================\n",
      "input_1 (InputLayer)         [(None, 480, 480, 3)]     0         \n",
      "_________________________________________________________________\n",
      "block1_conv1 (Conv2D)        (None, 480, 480, 64)      1792      \n",
      "_________________________________________________________________\n",
      "block1_conv2 (Conv2D)        (None, 480, 480, 64)      36928     \n",
      "_________________________________________________________________\n",
      "block1_pool (MaxPooling2D)   (None, 240, 240, 64)      0         \n",
      "_________________________________________________________________\n",
      "block2_conv1 (Conv2D)        (None, 240, 240, 128)     73856     \n",
      "_________________________________________________________________\n",
      "block2_conv2 (Conv2D)        (None, 240, 240, 128)     147584    \n",
      "_________________________________________________________________\n",
      "block2_pool (MaxPooling2D)   (None, 120, 120, 128)     0         \n",
      "_________________________________________________________________\n",
      "block3_conv1 (Conv2D)        (None, 120, 120, 256)     295168    \n",
      "_________________________________________________________________\n",
      "block3_conv2 (Conv2D)        (None, 120, 120, 256)     590080    \n",
      "_________________________________________________________________\n",
      "block3_conv3 (Conv2D)        (None, 120, 120, 256)     590080    \n",
      "_________________________________________________________________\n",
      "block3_pool (MaxPooling2D)   (None, 60, 60, 256)       0         \n",
      "_________________________________________________________________\n",
      "block4_conv1 (Conv2D)        (None, 60, 60, 512)       1180160   \n",
      "_________________________________________________________________\n",
      "block4_conv2 (Conv2D)        (None, 60, 60, 512)       2359808   \n",
      "_________________________________________________________________\n",
      "block4_conv3 (Conv2D)        (None, 60, 60, 512)       2359808   \n",
      "_________________________________________________________________\n",
      "block4_pool (MaxPooling2D)   (None, 30, 30, 512)       0         \n",
      "_________________________________________________________________\n",
      "block5_conv1 (Conv2D)        (None, 30, 30, 512)       2359808   \n",
      "_________________________________________________________________\n",
      "block5_conv2 (Conv2D)        (None, 30, 30, 512)       2359808   \n",
      "_________________________________________________________________\n",
      "block5_conv3 (Conv2D)        (None, 30, 30, 512)       2359808   \n",
      "_________________________________________________________________\n",
      "block5_pool (MaxPooling2D)   (None, 15, 15, 512)       0         \n",
      "_________________________________________________________________\n",
      "global_average_pooling2d (Gl (None, 512)               0         \n",
      "_________________________________________________________________\n",
      "dense (Dense)                (None, 256)               131328    \n",
      "_________________________________________________________________\n",
      "dropout (Dropout)            (None, 256)               0         \n",
      "_________________________________________________________________\n",
      "dense_1 (Dense)              (None, 128)               32896     \n",
      "_________________________________________________________________\n",
      "dense_2 (Dense)              (None, 6)                 774       \n",
      "=================================================================\n",
      "Total params: 14,879,686\n",
      "Trainable params: 14,879,686\n",
      "Non-trainable params: 0\n",
      "_________________________________________________________________\n"
     ]
    }
   ],
   "source": [
    "model.summary()"
   ]
  },
  {
   "cell_type": "code",
   "execution_count": 14,
   "id": "f9942b2a",
   "metadata": {
    "execution": {
     "iopub.execute_input": "2021-11-29T05:45:09.370795Z",
     "iopub.status.busy": "2021-11-29T05:45:09.369834Z",
     "iopub.status.idle": "2021-11-29T05:45:10.403288Z",
     "shell.execute_reply": "2021-11-29T05:45:10.402337Z",
     "shell.execute_reply.started": "2021-11-29T03:30:23.597093Z"
    },
    "papermill": {
     "duration": 1.060498,
     "end_time": "2021-11-29T05:45:10.403447",
     "exception": false,
     "start_time": "2021-11-29T05:45:09.342949",
     "status": "completed"
    },
    "tags": []
   },
   "outputs": [
    {
     "data": {
      "image/png": "[encoded data removed]",
      "text/plain": [
       "<IPython.core.display.Image object>"
      ]
     },
     "execution_count": 14,
     "metadata": {},
     "output_type": "execute_result"
    }
   ],
   "source": [
    "tf.keras.utils.plot_model(model, dpi=60)"
   ]
  },
  {
   "cell_type": "markdown",
   "id": "f93411a3",
   "metadata": {
    "papermill": {
     "duration": 0.023545,
     "end_time": "2021-11-29T05:45:10.451587",
     "exception": false,
     "start_time": "2021-11-29T05:45:10.428042",
     "status": "completed"
    },
    "tags": []
   },
   "source": [
    "## Trainning"
   ]
  },
  {
   "cell_type": "code",
   "execution_count": 15,
   "id": "b9e81aab",
   "metadata": {
    "execution": {
     "iopub.execute_input": "2021-11-29T05:45:10.510176Z",
     "iopub.status.busy": "2021-11-29T05:45:10.509198Z",
     "iopub.status.idle": "2021-11-29T05:45:10.512350Z",
     "shell.execute_reply": "2021-11-29T05:45:10.511834Z",
     "shell.execute_reply.started": "2021-11-29T03:30:30.025261Z"
    },
    "papermill": {
     "duration": 0.037248,
     "end_time": "2021-11-29T05:45:10.512489",
     "exception": false,
     "start_time": "2021-11-29T05:45:10.475241",
     "status": "completed"
    },
    "tags": []
   },
   "outputs": [],
   "source": [
    "checkpoint = ModelCheckpoint(\n",
    "    final_model,\n",
    "    monitor = 'val_accuracy',\n",
    "    mode = 'max',\n",
    "    save_best_only = True,\n",
    "    save_weights_only= False ,\n",
    "    perior = 1,\n",
    "    verbose = 1\n",
    ")\n",
    "\n",
    "early_stopping = EarlyStopping(\n",
    "    monitor = 'val_accuracy',\n",
    "    mode = 'auto',\n",
    "    min_delta = 0.0001,\n",
    "    patience = 3,\n",
    "    baseline = None,\n",
    "    restore_best_weights = True,\n",
    "    verbose = 1\n",
    ")\n",
    "def build_lrfn(lr_start=0.00001, lr_max=0.00005, \n",
    "               lr_min=0.00001, lr_rampup_epochs=5, \n",
    "               lr_sustain_epochs=0, lr_exp_decay=.8):\n",
    "    lr_max = lr_max * strategy.num_replicas_in_sync\n",
    "\n",
    "    def lrfn(epoch):\n",
    "        if epoch < lr_rampup_epochs:\n",
    "            lr = (lr_max - lr_start) / lr_rampup_epochs * epoch + lr_start\n",
    "        elif epoch < lr_rampup_epochs + lr_sustain_epochs:\n",
    "            lr = lr_max\n",
    "        else:\n",
    "            lr = (lr_max - lr_min) *\\\n",
    "                 lr_exp_decay**(epoch - lr_rampup_epochs\\\n",
    "                                - lr_sustain_epochs) + lr_min\n",
    "        return lr\n",
    "    return lrfn"
   ]
  },
  {
   "cell_type": "code",
   "execution_count": 16,
   "id": "c6925446",
   "metadata": {
    "execution": {
     "iopub.execute_input": "2021-11-29T05:45:10.565827Z",
     "iopub.status.busy": "2021-11-29T05:45:10.564891Z",
     "iopub.status.idle": "2021-11-29T05:45:10.567717Z",
     "shell.execute_reply": "2021-11-29T05:45:10.568169Z",
     "shell.execute_reply.started": "2021-11-29T03:30:31.401163Z"
    },
    "papermill": {
     "duration": 0.03201,
     "end_time": "2021-11-29T05:45:10.568359",
     "exception": false,
     "start_time": "2021-11-29T05:45:10.536349",
     "status": "completed"
    },
    "tags": []
   },
   "outputs": [],
   "source": [
    "lrfn = build_lrfn()\n",
    "STEPS_PER_EPOCH = train_labels.shape[0] // BATCH_SIZE\n",
    "lr_schedule = tf.keras.callbacks.LearningRateScheduler(lrfn, verbose=1)"
   ]
  },
  {
   "cell_type": "code",
   "execution_count": 17,
   "id": "a9548c34",
   "metadata": {
    "execution": {
     "iopub.execute_input": "2021-11-29T05:45:10.627746Z",
     "iopub.status.busy": "2021-11-29T05:45:10.626951Z",
     "iopub.status.idle": "2021-11-29T08:02:30.030819Z",
     "shell.execute_reply": "2021-11-29T08:02:30.029778Z"
    },
    "papermill": {
     "duration": 8239.435856,
     "end_time": "2021-11-29T08:02:30.030986",
     "exception": false,
     "start_time": "2021-11-29T05:45:10.595130",
     "status": "completed"
    },
    "tags": []
   },
   "outputs": [
    {
     "name": "stdout",
     "output_type": "stream",
     "text": [
      "Epoch 1/10\n",
      "\n",
      "Epoch 00001: LearningRateScheduler reducing learning rate to 1e-05.\n",
      "246/246 [==============================] - 1589s 6s/step - loss: 0.5215 - f1_score: 0.2509 - accuracy: 0.2327 - val_loss: 0.3453 - val_f1_score: 0.4885 - val_accuracy: 0.4776\n",
      "\n",
      "Epoch 00001: val_accuracy improved from -inf to 0.47760, saving model to FGVC8-VGG16.h5\n",
      "Epoch 2/10\n",
      "\n",
      "Epoch 00002: LearningRateScheduler reducing learning rate to 8.8e-05.\n",
      "246/246 [==============================] - 729s 3s/step - loss: 0.4139 - f1_score: 0.3340 - accuracy: 0.3708 - val_loss: 0.2680 - val_f1_score: 0.6576 - val_accuracy: 0.6717\n",
      "\n",
      "Epoch 00002: val_accuracy improved from 0.47760 to 0.67168, saving model to FGVC8-VGG16.h5\n",
      "Epoch 3/10\n",
      "\n",
      "Epoch 00003: LearningRateScheduler reducing learning rate to 0.000166.\n",
      "246/246 [==============================] - 746s 3s/step - loss: 0.2561 - f1_score: 0.6955 - accuracy: 0.6930 - val_loss: 0.1661 - val_f1_score: 0.8168 - val_accuracy: 0.8222\n",
      "\n",
      "Epoch 00003: val_accuracy improved from 0.67168 to 0.82222, saving model to FGVC8-VGG16.h5\n",
      "Epoch 4/10\n",
      "\n",
      "Epoch 00004: LearningRateScheduler reducing learning rate to 0.000244.\n",
      "246/246 [==============================] - 764s 3s/step - loss: 0.1489 - f1_score: 0.8378 - accuracy: 0.8405 - val_loss: 0.1254 - val_f1_score: 0.8647 - val_accuracy: 0.8672\n",
      "\n",
      "Epoch 00004: val_accuracy improved from 0.82222 to 0.86720, saving model to FGVC8-VGG16.h5\n",
      "Epoch 5/10\n",
      "\n",
      "Epoch 00005: LearningRateScheduler reducing learning rate to 0.000322.\n",
      "246/246 [==============================] - 735s 3s/step - loss: 0.1317 - f1_score: 0.8552 - accuracy: 0.8618 - val_loss: 0.1212 - val_f1_score: 0.8646 - val_accuracy: 0.8756\n",
      "\n",
      "Epoch 00005: val_accuracy improved from 0.86720 to 0.87563, saving model to FGVC8-VGG16.h5\n",
      "Epoch 6/10\n",
      "\n",
      "Epoch 00006: LearningRateScheduler reducing learning rate to 0.0004.\n",
      "246/246 [==============================] - 729s 3s/step - loss: 0.1169 - f1_score: 0.8714 - accuracy: 0.8746 - val_loss: 0.1098 - val_f1_score: 0.8762 - val_accuracy: 0.8821\n",
      "\n",
      "Epoch 00006: val_accuracy improved from 0.87563 to 0.88208, saving model to FGVC8-VGG16.h5\n",
      "Epoch 7/10\n",
      "\n",
      "Epoch 00007: LearningRateScheduler reducing learning rate to 0.000322.\n",
      "246/246 [==============================] - 725s 3s/step - loss: 0.0995 - f1_score: 0.8883 - accuracy: 0.8948 - val_loss: 0.1008 - val_f1_score: 0.8872 - val_accuracy: 0.9014\n",
      "\n",
      "Epoch 00007: val_accuracy improved from 0.88208 to 0.90143, saving model to FGVC8-VGG16.h5\n",
      "Epoch 8/10\n",
      "\n",
      "Epoch 00008: LearningRateScheduler reducing learning rate to 0.0002596000000000001.\n",
      "246/246 [==============================] - 743s 3s/step - loss: 0.0898 - f1_score: 0.8951 - accuracy: 0.9010 - val_loss: 0.0960 - val_f1_score: 0.8928 - val_accuracy: 0.9039\n",
      "\n",
      "Epoch 00008: val_accuracy improved from 0.90143 to 0.90394, saving model to FGVC8-VGG16.h5\n",
      "Epoch 9/10\n",
      "\n",
      "Epoch 00009: LearningRateScheduler reducing learning rate to 0.00020968000000000004.\n",
      "246/246 [==============================] - 734s 3s/step - loss: 0.0805 - f1_score: 0.9062 - accuracy: 0.9085 - val_loss: 0.0922 - val_f1_score: 0.8920 - val_accuracy: 0.9018\n",
      "\n",
      "Epoch 00009: val_accuracy did not improve from 0.90394\n",
      "Epoch 10/10\n",
      "\n",
      "Epoch 00010: LearningRateScheduler reducing learning rate to 0.00016974400000000002.\n",
      "246/246 [==============================] - 732s 3s/step - loss: 0.0730 - f1_score: 0.9130 - accuracy: 0.9200 - val_loss: 0.0885 - val_f1_score: 0.9025 - val_accuracy: 0.9115\n",
      "\n",
      "Epoch 00010: val_accuracy improved from 0.90394 to 0.91147, saving model to FGVC8-VGG16.h5\n"
     ]
    }
   ],
   "source": [
    "params = model.fit(\n",
    "    train_dataset, \n",
    "    validation_data = valid_dataset, \n",
    "    epochs = EPOCHS,\n",
    "    steps_per_epoch=STEPS_PER_EPOCH,\n",
    "    callbacks = [lr_schedule, early_stopping, checkpoint, CSVLogger(hist_path)]\n",
    ")"
   ]
  }
 ],
 "metadata": {
  "kernelspec": {
   "display_name": "Python 3",
   "language": "python",
   "name": "python3"
  },
  "language_info": {
   "codemirror_mode": {
    "name": "ipython",
    "version": 3
   },
   "file_extension": ".py",
   "mimetype": "text/x-python",
   "name": "python",
   "nbconvert_exporter": "python",
   "pygments_lexer": "ipython3",
   "version": "3.7.10"
  },
  "papermill": {
   "default_parameters": {},
   "duration": 8269.293411,
   "end_time": "2021-11-29T08:02:33.483154",
   "environment_variables": {},
   "exception": null,
   "input_path": "__notebook__.ipynb",
   "output_path": "__notebook__.ipynb",
   "parameters": {},
   "start_time": "2021-11-29T05:44:44.189743",
   "version": "2.3.3"
  }
 },
 "nbformat": 4,
 "nbformat_minor": 5
}
